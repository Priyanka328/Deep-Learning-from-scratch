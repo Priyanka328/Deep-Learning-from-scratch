{
 "cells": [
  {
   "cell_type": "markdown",
   "metadata": {},
   "source": [
    "# 逻辑回归 --- 从0开始\n",
    "实现一个逻辑回归分类器，能够识别猫（y=1）和不是猫的东西（y=0）"
   ]
  },
  {
   "cell_type": "markdown",
   "metadata": {},
   "source": [
    "## 1- 导入Python包 ##"
   ]
  },
  {
   "cell_type": "code",
   "execution_count": 1,
   "metadata": {
    "collapsed": true
   },
   "outputs": [],
   "source": [
    "import numpy as np\n",
    "import matplotlib.pyplot as plt\n",
    "import h5py\n",
    "from lr_utils import load_dataset\n",
    "\n",
    "%matplotlib inline"
   ]
  },
  {
   "cell_type": "markdown",
   "metadata": {},
   "source": [
    "## 2- 读入数据"
   ]
  },
  {
   "cell_type": "code",
   "execution_count": 2,
   "metadata": {
    "collapsed": true
   },
   "outputs": [],
   "source": [
    "# 加载数据\n",
    "train_set_x, train_set_y, test_set_x, test_set_y, classes = load_dataset()"
   ]
  },
  {
   "cell_type": "code",
   "execution_count": 3,
   "metadata": {},
   "outputs": [
    {
     "name": "stdout",
     "output_type": "stream",
     "text": [
      "train_set_x shape:(209, 64, 64, 3)\n",
      "train_set_y shape:(209, 1)\n",
      "test_set_x shape:(50, 64, 64, 3)\n",
      "test_set_y shape:(50, 1)\n"
     ]
    }
   ],
   "source": [
    "# 打印shape\n",
    "print('train_set_x shape:{}'.format(train_set_x.shape))\n",
    "print('train_set_y shape:{}'.format(train_set_y.shape))\n",
    "print('test_set_x shape:{}'.format(test_set_x.shape))\n",
    "print('test_set_y shape:{}'.format(test_set_y.shape))"
   ]
  },
  {
   "cell_type": "code",
   "execution_count": 4,
   "metadata": {},
   "outputs": [
    {
     "name": "stdout",
     "output_type": "stream",
     "text": [
      "y=1,It is a cat\n"
     ]
    },
    {
     "data": {
      "image/png": "[encoded data removed]",
      "text/plain": [
       "<matplotlib.figure.Figure at 0x7f1edc5727f0>"
      ]
     },
     "metadata": {},
     "output_type": "display_data"
    }
   ],
   "source": [
    "# 图片样例\n",
    "index = 25\n",
    "plt.imshow(train_set_x[index])\n",
    "print('y={},It is a {}'.format(train_set_y[index,0], classes[train_set_y[index,0]].decode('utf-8')))"
   ]
  },
  {
   "cell_type": "code",
   "execution_count": 5,
   "metadata": {},
   "outputs": [
    {
     "name": "stdout",
     "output_type": "stream",
     "text": [
      "train_set_x shape:(209, 12288)\n",
      "test_set_xshape:(50, 12288)\n"
     ]
    }
   ],
   "source": [
    "'''\n",
    "读入的图片是3维数组（width,height,3）.为了能使用逻辑回归模型，我们需要将\n",
    "图片拉成长向量，大小为width*hight*3。\n",
    "'''\n",
    "train_set_x = train_set_x.reshape(train_set_x.shape[0],-1)\n",
    "test_set_x = test_set_x.reshape(test_set_x.shape[0],-1)\n",
    "\n",
    "print('train_set_x shape:{}'.format(train_set_x.shape))\n",
    "print('test_set_xshape:{}'.format(test_set_x.shape))"
   ]
  },
  {
   "cell_type": "code",
   "execution_count": 6,
   "metadata": {
    "collapsed": true
   },
   "outputs": [],
   "source": [
    "# 标准化数据\n",
    "train_set_x = train_set_x / 255\n",
    "test_set_x = test_set_x / 255"
   ]
  },
  {
   "cell_type": "markdown",
   "metadata": {},
   "source": [
    "## 3 - 逻辑回归模型的结构\n",
    "\n",
    "我们实现一个简单的逻辑回归模型来区分猫和非猫图片。\n",
    "\n",
    "逻辑回归模型其实可以看做一个非常简单的单层神经网络。\n",
    "\n",
    "<img src=\"images/LogReg_kiank.png\" style=\"width:650px;height:400px;\">\n",
    "\n",
    "**算法的数学表达式如下**:\n",
    "\n",
    "对于一个样本 $x^{(i)}$: \n",
    "$$z^{(i)} = x^{(i)}w + b \\tag{1}$$\n",
    "$$\\hat{y}^{(i)} = a^{(i)} = sigmoid(z^{(i)})\\tag{2}$$ \n",
    "$$ \\mathcal{L}(a^{(i)}, y^{(i)}) =  - y^{(i)}  \\log(a^{(i)}) - (1-y^{(i)} )  \\log(1-a^{(i)})\\tag{3}$$\n",
    "\n",
    "总的代价值是所有样本的和:\n",
    "$$ J = \\frac{1}{m} \\sum_{i=1}^m \\mathcal{L}(a^{(i)}, y^{(i)})\\tag{4}$$\n",
    "\n",
    "**关键步骤**:\n",
    "实现逻辑回归可以分为以下几步：\n",
    "   - 初始化模型参数\n",
    "   - 通过最小化损失函数学习模型参数  \n",
    "   - 用学到的参数在训练集上测试\n",
    "   - 分析结果并总结"
   ]
  },
  {
   "cell_type": "markdown",
   "metadata": {},
   "source": [
    "## 4 - 逻辑回归模型的实现\n",
    "### 4.1 - sigmoid函数"
   ]
  },
  {
   "cell_type": "code",
   "execution_count": 7,
   "metadata": {
    "collapsed": true
   },
   "outputs": [],
   "source": [
    "def sigmoid(z):\n",
    "    '''\n",
    "    Compute the sigmoid of z\n",
    "    \n",
    "    Argument:\n",
    "    z -- A scalar or numpy array of any size\n",
    "    \n",
    "    Return:\n",
    "    s -- sigmoid(z)\n",
    "    '''\n",
    "    \n",
    "    s = 1 / (1 + np.exp(-z))\n",
    "    return s"
   ]
  },
  {
   "cell_type": "markdown",
   "metadata": {},
   "source": [
    "### 4.2 - 初始化参数"
   ]
  },
  {
   "cell_type": "code",
   "execution_count": 8,
   "metadata": {
    "collapsed": true
   },
   "outputs": [],
   "source": [
    "def initialize(dim):\n",
    "    '''\n",
    "    initialize w and b with zeros\n",
    "    \n",
    "    Argments:\n",
    "    dim -- size of the w vector we want\n",
    "    \n",
    "    Return:\n",
    "    w -- initialized vector of shape (dim,1)\n",
    "    b -- initialized scalar\n",
    "    '''\n",
    "    w = np.zeros((dim,1))\n",
    "    b = 0\n",
    "    \n",
    "    return w,b"
   ]
  },
  {
   "cell_type": "markdown",
   "metadata": {},
   "source": [
    "### 4.3 - Forward and Backward propagation\n",
    "\n",
    "现在已经实现了参数初始化，可以进行前向和反向传播学习模型参数。\n",
    "\n",
    "**前向传播：**\n",
    "- You get X\n",
    "- You compute $A = \\sigma(w^T X + b) = (a^{(0)}, a^{(1)}, ..., a^{(m-1)}, a^{(m)})$\n",
    "- You calculate the cost function: $J = -\\frac{1}{m}\\sum_{i=1}^{m}y^{(i)}\\log(a^{(i)})+(1-y^{(i)})\\log(1-a^{(i)})$\n",
    "\n",
    "\n",
    "**反向传播：**\n",
    "$$ \\frac{\\partial J}{\\partial w} = \\frac{1}{m}X^T(A-Y)\\tag{7}$$\n",
    "$$ \\frac{\\partial J}{\\partial b} = \\frac{1}{m} \\sum_{i=1}^m (a^{(i)}-y^{(i)})\\tag{8}$$"
   ]
  },
  {
   "cell_type": "code",
   "execution_count": 9,
   "metadata": {
    "collapsed": true
   },
   "outputs": [],
   "source": [
    "def propagate(w, b, X, Y):\n",
    "    '''\n",
    "    Implement the cost function and its gradient.\n",
    "    \n",
    "    Arguments:\n",
    "    w -- weights, a numpy array of size (width*height*3,1)\n",
    "    b -- bias, a scalar\n",
    "    X -- data of size (number of examples,width*height*3)\n",
    "    Y -- true 'label' vector (containing 0 if non-cat, 1 if cat) of size (number of examples,1)\n",
    "    \n",
    "    Return:\n",
    "    cost -- negative log-likelihood cost for logistic regression\n",
    "    dx -- gradient of the loss with respect to w, thus same shape as w\n",
    "    db -- gradient of the loss with respect to b, thus same shape as b\n",
    "    '''\n",
    "    m = X.shape[0]\n",
    "    \n",
    "    A = sigmoid(np.dot(X,w) + b)\n",
    "    cost = np.mean( -Y*np.log(A) - (1-Y)*np.log(1-A))\n",
    "    dw = 1/m * np.dot(X.T,A-Y)\n",
    "    db = np.mean(A-Y)\n",
    "    \n",
    "    grads = {'dw': dw,'db': db}\n",
    "    return grads, cost"
   ]
  },
  {
   "cell_type": "code",
   "execution_count": 10,
   "metadata": {
    "collapsed": true
   },
   "outputs": [],
   "source": [
    "def optimize(w, b, X, Y, num_iter, lr, print_cost = False):\n",
    "    '''\n",
    "    his function optimizes w and b by running a gradient descent algorithm\n",
    "    \n",
    "    Arguments:\n",
    "    w -- weights, a numpy array of size (width*height*3,1)\n",
    "    b -- bias, a scalar\n",
    "    X -- data of size (number of examples,width*height*3)\n",
    "    Y -- true 'label' vector (containing 0 if non-cat, 1 if cat) of size (number of examples,1)\n",
    "    num_liter -- number of iterations of the optimization loop\n",
    "    learning_rate -- learning rate of the gradient descent update rule\n",
    "    print_cost -- True to print the loss every 100 steps\n",
    "    \n",
    "    Returns:\n",
    "    params -- dictionary containing the weights w and bias b\n",
    "    grads -- dictionary containing the dw and db\n",
    "    costs -- list of all the costs computed during the optimization\n",
    "    '''\n",
    "    \n",
    "    costs = []\n",
    "    \n",
    "    for i in range(num_iter):\n",
    "        grads, cost = propagate(w, b, X, Y)\n",
    "        w = w - lr * grads['dw']\n",
    "        b = b - lr * grads['db']\n",
    "        # Record the costs\n",
    "        if i % 100 == 0:\n",
    "            costs.append(cost)\n",
    "        \n",
    "        # Print the cost every 100 training examples\n",
    "        if print_cost and i % 100 == 0:\n",
    "            print (\"Cost after iteration %i: %f\" %(i, cost))\n",
    "        \n",
    "    params = {'w':w, 'b':b}\n",
    "\n",
    "    return params, grads, costs"
   ]
  },
  {
   "cell_type": "code",
   "execution_count": 11,
   "metadata": {
    "collapsed": true
   },
   "outputs": [],
   "source": [
    "def predict(w, b, X):\n",
    "    '''\n",
    "    Predict whether the label is 0 or 1 using learned logistic regression parameters (w, b)\n",
    "    \n",
    "    Arguments:\n",
    "    w -- weights, a numpy array of size (width*height*3,1)\n",
    "    b -- bias, a scalar\n",
    "    X -- data of size (number of examples,width*height*3)\n",
    "    \n",
    "    Returns:\n",
    "    Y_prediction -- a numpy array (vector) containing all predictions (0/1) for the examples in X\n",
    "    '''\n",
    "  \n",
    "    A = sigmoid(np.dot(X, w) + b)\n",
    "    Y_prediction = np.zeros_like(A)\n",
    "    Y_prediction[A > 0.5] = 1\n",
    "    \n",
    "    return Y_prediction"
   ]
  },
  {
   "cell_type": "markdown",
   "metadata": {},
   "source": [
    "## 5 - 所有函数整合成一个模型 ##"
   ]
  },
  {
   "cell_type": "code",
   "execution_count": 12,
   "metadata": {},
   "outputs": [],
   "source": [
    "def model(X_train, Y_train, X_test, Y_test, num_iter = 2000,lr = 0.5 ,print_cost = False):\n",
    "    \"\"\"\n",
    "    Builds the logistic regression model by calling the function you've implemented previously\n",
    "    \n",
    "    Arguments:\n",
    "    X_train -- training set represented by a numpy array of shape (width*height*3,1)\n",
    "    Y_train -- training labels represented by a numpy array (vector)of size (number of examples,1)\n",
    "    X_test -- test set represented by a numpy array of shape (width*height*3,1)\n",
    "    Y_test -- test labels represented by a numpy array (vector)of size (number of examples,1)\n",
    "    num_iterations -- hyperparameter representing the number of iterations to optimize the parameters\n",
    "    learning_rate -- hyperparameter representing the learning rate used in the update rule of optimize()\n",
    "    print_cost -- Set to true to print the cost every 100 iterations\n",
    "    \n",
    "    Returns:\n",
    "    d -- dictionary containing information about the model.\n",
    "    \"\"\"\n",
    "    \n",
    "    m_train = X_train.shape[1]\n",
    "    \n",
    "    # initialize parameters with zeros\n",
    "    w,b = initialize(m_train)\n",
    "    \n",
    "    # Gradient descent \n",
    "    params, grads, costs = optimize(w, b, X_train, Y_train, num_iter=num_iter, lr = lr, print_cost=print_cost)\n",
    "    \n",
    "    # Retrieve parameters w and b from dictionary 'params'\n",
    "    w, b = params['w'], params['b']\n",
    "    \n",
    "    # Predict test/train set examples \n",
    "    Y_prediction_test = predict(w,b,X_test)\n",
    "    Y_prediction_train = predict(w,b,X_train)\n",
    "    \n",
    "    # print train/test Accuracy\n",
    "    print('train accuracy: {} %'.format(np.mean(Y_prediction_train==Y_train)*100))\n",
    "    print('test accuarcy: {} %'.format(np.mean(Y_prediction_test==Y_test)*100))\n",
    "    \n",
    "    d = {\"costs\": costs,\n",
    "         \"Y_prediction_test\": Y_prediction_test, \n",
    "         \"Y_prediction_train\" : Y_prediction_train, \n",
    "         \"w\" : w, \n",
    "         \"b\" : b,\n",
    "         \"learning_rate\" : lr,\n",
    "         \"num_iterations\": num_iter}\n",
    "    \n",
    "    return d\n",
    "    "
   ]
  },
  {
   "cell_type": "code",
   "execution_count": 13,
   "metadata": {},
   "outputs": [
    {
     "name": "stdout",
     "output_type": "stream",
     "text": [
      "Cost after iteration 0: 0.693147\n",
      "Cost after iteration 100: 0.584508\n",
      "Cost after iteration 200: 0.466949\n",
      "Cost after iteration 300: 0.376007\n",
      "Cost after iteration 400: 0.331463\n",
      "Cost after iteration 500: 0.303273\n",
      "Cost after iteration 600: 0.279880\n",
      "Cost after iteration 700: 0.260042\n",
      "Cost after iteration 800: 0.242941\n",
      "Cost after iteration 900: 0.228004\n",
      "Cost after iteration 1000: 0.214820\n",
      "Cost after iteration 1100: 0.203078\n",
      "Cost after iteration 1200: 0.192544\n",
      "Cost after iteration 1300: 0.183033\n",
      "Cost after iteration 1400: 0.174399\n",
      "Cost after iteration 1500: 0.166521\n",
      "Cost after iteration 1600: 0.159305\n",
      "Cost after iteration 1700: 0.152667\n",
      "Cost after iteration 1800: 0.146542\n",
      "Cost after iteration 1900: 0.140872\n",
      "train accuracy: 99.04306220095694 %\n",
      "test accuarcy: 70.0 %\n"
     ]
    }
   ],
   "source": [
    "d = model(train_set_x, train_set_y, test_set_x, test_set_y, num_iter = 2000, lr = 0.005, print_cost = True)"
   ]
  },
  {
   "cell_type": "code",
   "execution_count": 14,
   "metadata": {},
   "outputs": [
    {
     "name": "stdout",
     "output_type": "stream",
     "text": [
      "y=1,You predicted that it is a cat\n"
     ]
    },
    {
     "data": {
      "image/png": "[encoded data removed]",
      "text/plain": [
       "<matplotlib.figure.Figure at 0x7f1ec93302b0>"
      ]
     },
     "metadata": {},
     "output_type": "display_data"
    }
   ],
   "source": [
    "# 测试图片\n",
    "index = 1\n",
    "plt.imshow(test_set_x[index].reshape(64,64,3))\n",
    "print('y={},You predicted that it is a {}'.format(test_set_y[index,0], classes[int(d['Y_prediction_test'][index,0])].decode('utf-8')))"
   ]
  },
  {
   "cell_type": "code",
   "execution_count": 15,
   "metadata": {},
   "outputs": [
    {
     "data": {
      "image/png": "[encoded data removed]",
      "text/plain": [
       "<matplotlib.figure.Figure at 0x7f1ec92be0b8>"
      ]
     },
     "metadata": {},
     "output_type": "display_data"
    }
   ],
   "source": [
    "# Plot learning curve (with costs)\n",
    "costs = np.squeeze(d['costs'])\n",
    "plt.plot(costs)\n",
    "plt.ylabel('cost')\n",
    "plt.xlabel('iterations (per hundreds)')\n",
    "plt.title(\"Learning rate =\" + str(d[\"learning_rate\"]))\n",
    "plt.show()"
   ]
  },
  {
   "cell_type": "markdown",
   "metadata": {},
   "source": [
    "## 6 - 进一步的分析\n",
    "**使用不同的学习率**"
   ]
  },
  {
   "cell_type": "code",
   "execution_count": 21,
   "metadata": {},
   "outputs": [
    {
     "name": "stdout",
     "output_type": "stream",
     "text": [
      "learning rate is: 0.0015\n",
      "train accuracy: 91.86602870813397 %\n",
      "test accuarcy: 70.0 %\n",
      "\n",
      "-------------------------------------------------------\n",
      "\n",
      "learning rate is: 0.002\n",
      "train accuracy: 93.77990430622009 %\n",
      "test accuarcy: 74.0 %\n",
      "\n",
      "-------------------------------------------------------\n",
      "\n",
      "learning rate is: 0.003\n",
      "train accuracy: 96.17224880382776 %\n",
      "test accuarcy: 74.0 %\n",
      "\n",
      "-------------------------------------------------------\n",
      "\n",
      "learning rate is: 0.0035\n",
      "train accuracy: 97.1291866028708 %\n",
      "test accuarcy: 74.0 %\n",
      "\n",
      "-------------------------------------------------------\n",
      "\n"
     ]
    },
    {
     "data": {
      "image/png": "[encoded data removed]",
      "text/plain": [
       "<matplotlib.figure.Figure at 0x7f1ea986e748>"
      ]
     },
     "metadata": {},
     "output_type": "display_data"
    }
   ],
   "source": [
    "learning_rates = [0.0015,0.002,0.003, 0.0035]\n",
    "models = {}\n",
    "for i in learning_rates:\n",
    "    print (\"learning rate is: \" + str(i))\n",
    "    models[str(i)] = model(train_set_x, train_set_y, test_set_x, test_set_y, num_iter = 1500, lr = i, print_cost = False)\n",
    "    print ('\\n' + \"-------------------------------------------------------\" + '\\n')\n",
    "\n",
    "for i in learning_rates:\n",
    "    plt.plot(np.squeeze(models[str(i)][\"costs\"]), label= str(models[str(i)][\"learning_rate\"]))\n",
    "plt.ylabel('cost')\n",
    "plt.xlabel('iterations')\n",
    "\n",
    "legend = plt.legend(loc='upper center', shadow=True)\n",
    "frame = legend.get_frame()\n",
    "frame.set_facecolor('0.90')\n",
    "plt.show()"
   ]
  },
  {
   "cell_type": "code",
   "execution_count": null,
   "metadata": {
    "collapsed": true
   },
   "outputs": [],
   "source": []
  }
 ],
 "metadata": {
  "kernelspec": {
   "display_name": "Python 3",
   "language": "python",
   "name": "python3"
  },
  "language_info": {
   "codemirror_mode": {
    "name": "ipython",
    "version": 3
   },
   "file_extension": ".py",
   "mimetype": "text/x-python",
   "name": "python",
   "nbconvert_exporter": "python",
   "pygments_lexer": "ipython3",
   "version": "3.5.2"
  }
 },
 "nbformat": 4,
 "nbformat_minor": 2
}
